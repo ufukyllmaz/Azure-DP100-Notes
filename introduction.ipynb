{
 "cells": [
  {
   "cell_type": "code",
   "execution_count": null,
   "metadata": {},
   "outputs": [],
   "source": [
    "from azure.ai.ml.entities import Workspace\n",
    "\n",
    "workspace_name = \"mlw-example\"\n",
    "\n",
    "ws_basic = Workspace(\n",
    "    name = workspace_name,  #your workspace name\n",
    "    location = \"eastus\",    #inwhich server location is used\n",
    "    display_name = \"Basic workspace-example\"    #name of the workspace displayed\n",
    "    description = \"This example shows how to create a basic workspace\"  #description\n",
    ")\n",
    "\n",
    "ml_client.workspace.begin_create(ws_basic)"
   ]
  }
 ],
 "metadata": {
  "language_info": {
   "name": "python"
  }
 },
 "nbformat": 4,
 "nbformat_minor": 2
}
