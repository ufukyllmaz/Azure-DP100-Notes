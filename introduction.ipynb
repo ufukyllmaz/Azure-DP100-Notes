{
 "cells": [
  {
   "cell_type": "markdown",
   "metadata": {},
   "source": [
    "# Introduction"
   ]
  },
  {
   "cell_type": "code",
   "execution_count": null,
   "metadata": {},
   "outputs": [],
   "source": [
    "from azure.ai.ml.entities import Workspace\n",
    "\n",
    "workspace_name = \"mlw-example\"\n",
    "\n",
    "ws_basic = Workspace(\n",
    "    name = workspace_name,  #your workspace name\n",
    "    location = \"eastus\",    #inwhich server location is used\n",
    "    display_name = \"Basic workspace-example\"    #name of the workspace displayed\n",
    "    description = \"This example shows how to create a basic workspace\"  #description\n",
    ")\n",
    "\n",
    "ml_client.workspace.begin_create(ws_basic)"
   ]
  },
  {
   "cell_type": "markdown",
   "metadata": {},
   "source": [
    "## Artifacts"
   ]
  },
  {
   "cell_type": "markdown",
   "metadata": {},
   "source": [
    "Any file generated (and captured) from an experiment's run or job is an artifact. It may represent a model serialized as a Pickle file, the weights of a PyTorch or TensorFlow model, or even a text file containing the coefficients of a linear regression. Other artifacts can have nothing to do with the model itself, but they can contain configuration to run the model, pre-processing information, sample data, etc. As you can see, an artifact can come in any format."
   ]
  },
  {
   "cell_type": "markdown",
   "metadata": {},
   "source": [
    "In Azure Machine Learning, logging models has the following advantages:\n",
    "\n",
    "* You can deploy them on real-time or batch endpoints without providing an scoring script nor an environment.\n",
    "* When deployed, Model's deployments have a Swagger generated automatically and the Test feature can be used in Azure Machine Learning studio.\n",
    "* Models can be used as pipelines inputs directly."
   ]
  },
  {
   "cell_type": "code",
   "execution_count": null,
   "metadata": {},
   "outputs": [],
   "source": [
    "import mlfow\n",
    "import pickle\n",
    "\n",
    "filename = 'model.pkl'\n",
    "with open(filename, 'wb') as f:\n",
    "    pickle.dump(model, f)\n",
    "\n",
    "mlflow.log_artifact(filename)"
   ]
  },
  {
   "cell_type": "code",
   "execution_count": null,
   "metadata": {},
   "outputs": [],
   "source": [
    "# How to log model\n",
    "import mlflow\n",
    "mlflow.sklearn.log_model(sklearn_estimator, \"classifier\")"
   ]
  },
  {
   "cell_type": "markdown",
   "metadata": {},
   "source": [
    "# Install the Python SDK"
   ]
  },
  {
   "cell_type": "code",
   "execution_count": null,
   "metadata": {},
   "outputs": [],
   "source": [
    "!pip install azure-ai-ml"
   ]
  },
  {
   "cell_type": "code",
   "execution_count": null,
   "metadata": {},
   "outputs": [],
   "source": [
    "from azure.ai.ml import MLClient\n",
    "from acure.identity import DefaultAzureCredential\n",
    "\n",
    "ml_client = MLClient(\n",
    "    credential = DefaultAzureCredential(),      # credentşial to use for authenticaiton\n",
    "    subscription_id = subscription_id,          # Your subscription ID\n",
    "    resoruce_group_name = resoruce_group,       # The name of your resource group\n",
    "    workspace_name = workspace                  # The name of your worksapce\n",
    ")"
   ]
  },
  {
   "cell_type": "markdown",
   "metadata": {},
   "source": [
    "After defining the authentication, you need to call MLClient for the environment to connect to the workspace. You'll call MLClient anytime you want to create or update an asset or resource in the workspace."
   ]
  },
  {
   "cell_type": "code",
   "execution_count": null,
   "metadata": {},
   "outputs": [],
   "source": [
    "from azure.ai.ml import command\n",
    "\n",
    "# configure job\n",
    "job = command(\n",
    "    code = \"./src\",\n",
    "    command = \"python train.py\",\n",
    "    environment = \"AzureML-sklearn-0.24-ubuntu18.04-py37-cpu@latest\",\n",
    "    compute = \"aml-cluster\",\n",
    "    experiment_name = \"train-model\"\n",
    ")\n",
    "\n",
    "# connect to workspace and submit job\n",
    "returned_job = ml_client.create_or_update(job)"
   ]
  },
  {
   "cell_type": "markdown",
   "metadata": {},
   "source": [
    "# Install the Azure CLI"
   ]
  },
  {
   "cell_type": "markdown",
   "metadata": {},
   "source": [
    "To install the Azure CLI on your computer you can use a package manager.\n",
    "* Here are the instructions to install the Azure CLI, based on the platform you choose. https://learn.microsoft.com/en-us/cli/azure/install-azure-cli\n",
    "* You don't need to install the Azure CLI if you use the Azure Cloud Shell. Learn more about how to use the Azure Cloud Shell."
   ]
  },
  {
   "cell_type": "code",
   "execution_count": null,
   "metadata": {
    "vscode": {
     "languageId": "powershell"
    }
   },
   "outputs": [],
   "source": [
    "# Install the Azure Machine Learning extention (ml)\n",
    "az extention add -n ml -y"
   ]
  },
  {
   "cell_type": "code",
   "execution_count": null,
   "metadata": {
    "vscode": {
     "languageId": "powershell"
    }
   },
   "outputs": [],
   "source": [
    "# Work with the Azure CLI\n",
    "az ml compute create --name aml-cluster --size STANDARD_DS3_v2 --min-instances 0 --max-instances 5 --type AmlCompute --resource-group my-resource-group --workspace-name my-workspace\n",
    "\n",
    "# or\n",
    "# Create the configuration in a YAML file\n",
    "# \".yml\" file \n",
    "\"\"\"\n",
    "$schema: https://azuremlschemas.azureedge.net/latest/amlCompute.schema.json \n",
    "name: aml-cluster\n",
    "type: amlcompute\n",
    "size: STANDARD_DS3_v2\n",
    "min_instances: 0\n",
    "max_instances: 5\n",
    "\"\"\"\n",
    "az ml compute create --file compute.yml --resource-group my-resource-group --workspace-name my-workspace\n"
   ]
  },
  {
   "cell_type": "code",
   "execution_count": null,
   "metadata": {
    "vscode": {
     "languageId": "powershell"
    }
   },
   "outputs": [],
   "source": []
  }
 ],
 "metadata": {
  "language_info": {
   "name": "python"
  }
 },
 "nbformat": 4,
 "nbformat_minor": 2
}
